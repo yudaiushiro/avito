{
 "cells": [
  {
   "cell_type": "code",
   "execution_count": 1,
   "metadata": {},
   "outputs": [
    {
     "data": {
      "text/html": [
       "<div>\n",
       "<style scoped>\n",
       "    .dataframe tbody tr th:only-of-type {\n",
       "        vertical-align: middle;\n",
       "    }\n",
       "\n",
       "    .dataframe tbody tr th {\n",
       "        vertical-align: top;\n",
       "    }\n",
       "\n",
       "    .dataframe thead th {\n",
       "        text-align: right;\n",
       "    }\n",
       "</style>\n",
       "<table border=\"1\" class=\"dataframe\">\n",
       "  <thead>\n",
       "    <tr style=\"text-align: right;\">\n",
       "      <th></th>\n",
       "      <th>image</th>\n",
       "    </tr>\n",
       "  </thead>\n",
       "  <tbody>\n",
       "    <tr>\n",
       "      <th>0</th>\n",
       "      <td>845defffcb3876df3c272bbe807e21d6b028a67dafb68a...</td>\n",
       "    </tr>\n",
       "    <tr>\n",
       "      <th>1</th>\n",
       "      <td>86c463c915b2a3474e909a619d9b09cfd3c8bb4c379092...</td>\n",
       "    </tr>\n",
       "    <tr>\n",
       "      <th>2</th>\n",
       "      <td>053126195bf9301ea10f0eb3b2c8f09c0f17c94aa99aac...</td>\n",
       "    </tr>\n",
       "    <tr>\n",
       "      <th>3</th>\n",
       "      <td>dd112eba060070f610d89677a8987ffa3e7f95cb301b04...</td>\n",
       "    </tr>\n",
       "    <tr>\n",
       "      <th>4</th>\n",
       "      <td>a49d4f24f0de7e542161a1932e50666fc40bddcdecc855...</td>\n",
       "    </tr>\n",
       "  </tbody>\n",
       "</table>\n",
       "</div>"
      ],
      "text/plain": [
       "                                               image\n",
       "0  845defffcb3876df3c272bbe807e21d6b028a67dafb68a...\n",
       "1  86c463c915b2a3474e909a619d9b09cfd3c8bb4c379092...\n",
       "2  053126195bf9301ea10f0eb3b2c8f09c0f17c94aa99aac...\n",
       "3  dd112eba060070f610d89677a8987ffa3e7f95cb301b04...\n",
       "4  a49d4f24f0de7e542161a1932e50666fc40bddcdecc855..."
      ]
     },
     "execution_count": 1,
     "metadata": {},
     "output_type": "execute_result"
    }
   ],
   "source": [
    "from collections import defaultdict\n",
    "from scipy.stats import itemfreq\n",
    "from scipy import ndimage as ndi\n",
    "import matplotlib.pyplot as plt\n",
    "from skimage import feature\n",
    "from PIL import Image as IMG\n",
    "import numpy as np\n",
    "import pandas as pd \n",
    "import operator\n",
    "import cv2\n",
    "import os \n",
    "\n",
    "from IPython.core.display import HTML \n",
    "from IPython.display import Image\n",
    "\n",
    "images_path = \"/Users/um003580/projects/kaggle/avito/source/06052\"\n",
    "imgs = os.listdir(images_path)\n",
    "\n",
    "features = pd.DataFrame()\n",
    "features['image'] = imgs\n",
    "features.head()"
   ]
  },
  {
   "cell_type": "code",
   "execution_count": 39,
   "metadata": {},
   "outputs": [],
   "source": [
    "pd.set_option(\"display.max_colwidth\", 80)"
   ]
  },
  {
   "cell_type": "code",
   "execution_count": 25,
   "metadata": {},
   "outputs": [
    {
     "data": {
      "text/html": [
       "<div>\n",
       "<style scoped>\n",
       "    .dataframe tbody tr th:only-of-type {\n",
       "        vertical-align: middle;\n",
       "    }\n",
       "\n",
       "    .dataframe tbody tr th {\n",
       "        vertical-align: top;\n",
       "    }\n",
       "\n",
       "    .dataframe thead th {\n",
       "        text-align: right;\n",
       "    }\n",
       "</style>\n",
       "<table border=\"1\" class=\"dataframe\">\n",
       "  <thead>\n",
       "    <tr style=\"text-align: right;\">\n",
       "      <th></th>\n",
       "      <th>image</th>\n",
       "      <th>size</th>\n",
       "    </tr>\n",
       "  </thead>\n",
       "  <tbody>\n",
       "    <tr>\n",
       "      <th>0</th>\n",
       "      <td>845defffcb3876df3c272bbe807e21d6b028a67dafb68a...</td>\n",
       "      <td>31533</td>\n",
       "    </tr>\n",
       "    <tr>\n",
       "      <th>1</th>\n",
       "      <td>86c463c915b2a3474e909a619d9b09cfd3c8bb4c379092...</td>\n",
       "      <td>32325</td>\n",
       "    </tr>\n",
       "    <tr>\n",
       "      <th>2</th>\n",
       "      <td>053126195bf9301ea10f0eb3b2c8f09c0f17c94aa99aac...</td>\n",
       "      <td>35761</td>\n",
       "    </tr>\n",
       "    <tr>\n",
       "      <th>3</th>\n",
       "      <td>dd112eba060070f610d89677a8987ffa3e7f95cb301b04...</td>\n",
       "      <td>78887</td>\n",
       "    </tr>\n",
       "    <tr>\n",
       "      <th>4</th>\n",
       "      <td>a49d4f24f0de7e542161a1932e50666fc40bddcdecc855...</td>\n",
       "      <td>36678</td>\n",
       "    </tr>\n",
       "  </tbody>\n",
       "</table>\n",
       "</div>"
      ],
      "text/plain": [
       "                                               image   size\n",
       "0  845defffcb3876df3c272bbe807e21d6b028a67dafb68a...  31533\n",
       "1  86c463c915b2a3474e909a619d9b09cfd3c8bb4c379092...  32325\n",
       "2  053126195bf9301ea10f0eb3b2c8f09c0f17c94aa99aac...  35761\n",
       "3  dd112eba060070f610d89677a8987ffa3e7f95cb301b04...  78887\n",
       "4  a49d4f24f0de7e542161a1932e50666fc40bddcdecc855...  36678"
      ]
     },
     "execution_count": 25,
     "metadata": {},
     "output_type": "execute_result"
    }
   ],
   "source": [
    "image_sizes = pd.DataFrame()\n",
    "for x in range(5):\n",
    "    if x == 0:\n",
    "        image_sizes = pd.read_csv('train_jpg_' + str(x) + '_size.csv')\n",
    "    else:\n",
    "        image_sizes = pd.concat([image_sizes,pd.read_csv('train_jpg_' + str(x) + '_size.csv')])\n",
    "image_sizes.head()"
   ]
  },
  {
   "cell_type": "code",
   "execution_count": 28,
   "metadata": {},
   "outputs": [
    {
     "data": {
      "text/plain": [
       "image    1390836\n",
       "size       87189\n",
       "dtype: int64"
      ]
     },
     "execution_count": 28,
     "metadata": {},
     "output_type": "execute_result"
    }
   ],
   "source": [
    "image_sizes.nunique()"
   ]
  },
  {
   "cell_type": "code",
   "execution_count": 31,
   "metadata": {},
   "outputs": [
    {
     "data": {
      "text/html": [
       "<div>\n",
       "<style scoped>\n",
       "    .dataframe tbody tr th:only-of-type {\n",
       "        vertical-align: middle;\n",
       "    }\n",
       "\n",
       "    .dataframe tbody tr th {\n",
       "        vertical-align: top;\n",
       "    }\n",
       "\n",
       "    .dataframe thead th {\n",
       "        text-align: right;\n",
       "    }\n",
       "</style>\n",
       "<table border=\"1\" class=\"dataframe\">\n",
       "  <thead>\n",
       "    <tr style=\"text-align: right;\">\n",
       "      <th></th>\n",
       "      <th>image</th>\n",
       "      <th>size</th>\n",
       "    </tr>\n",
       "  </thead>\n",
       "  <tbody>\n",
       "    <tr>\n",
       "      <th>227055</th>\n",
       "      <td>d10c7e016e03247a3bf2d13348fe959fe6f436c1caf64c...</td>\n",
       "      <td>27039</td>\n",
       "    </tr>\n",
       "  </tbody>\n",
       "</table>\n",
       "</div>"
      ],
      "text/plain": [
       "                                                    image   size\n",
       "227055  d10c7e016e03247a3bf2d13348fe959fe6f436c1caf64c...  27039"
      ]
     },
     "execution_count": 31,
     "metadata": {},
     "output_type": "execute_result"
    }
   ],
   "source": [
    "image_sizes.query(\"'d10c7e016e03247a3bf2d13348fe959fe6f436c1caf64c7679f17c333c959b19.jpg' == image\")"
   ]
  },
  {
   "cell_type": "code",
   "execution_count": 35,
   "metadata": {},
   "outputs": [],
   "source": [
    "def delete_jpg(x):\n",
    "    return x.rstrip('.jpg')"
   ]
  },
  {
   "cell_type": "code",
   "execution_count": 40,
   "metadata": {},
   "outputs": [
    {
     "data": {
      "text/plain": [
       "0    845defffcb3876df3c272bbe807e21d6b028a67dafb68a4ef3e81b81a89164b9\n",
       "1    86c463c915b2a3474e909a619d9b09cfd3c8bb4c3790920d7722d8fb79e59495\n",
       "2    053126195bf9301ea10f0eb3b2c8f09c0f17c94aa99aac6484da49c0dd57eea0\n",
       "3    dd112eba060070f610d89677a8987ffa3e7f95cb301b04a0817297ef0213c406\n",
       "4    a49d4f24f0de7e542161a1932e50666fc40bddcdecc855b066a6ee34369e1926\n",
       "Name: image, dtype: object"
      ]
     },
     "execution_count": 40,
     "metadata": {},
     "output_type": "execute_result"
    }
   ],
   "source": [
    "image_sizes['image'] = image_sizes['image'].apply(lambda x : delete_jpg(x))\n",
    "image_sizes['image'].head()"
   ]
  },
  {
   "cell_type": "code",
   "execution_count": 41,
   "metadata": {},
   "outputs": [],
   "source": [
    "image_sizes.to_csv('image_sizes.csv',index=False)"
   ]
  },
  {
   "cell_type": "code",
   "execution_count": null,
   "metadata": {},
   "outputs": [],
   "source": []
  }
 ],
 "metadata": {
  "kernelspec": {
   "display_name": "Python 3",
   "language": "python",
   "name": "python3"
  },
  "language_info": {
   "codemirror_mode": {
    "name": "ipython",
    "version": 3
   },
   "file_extension": ".py",
   "mimetype": "text/x-python",
   "name": "python",
   "nbconvert_exporter": "python",
   "pygments_lexer": "ipython3",
   "version": "3.6.4"
  }
 },
 "nbformat": 4,
 "nbformat_minor": 2
}
